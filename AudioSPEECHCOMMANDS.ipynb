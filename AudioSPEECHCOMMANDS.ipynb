{
  "cells": [
    {
      "cell_type": "code",
      "execution_count": null,
      "metadata": {
        "id": "zHEkcLF39meS"
      },
      "outputs": [],
      "source": [
        "import torch\n",
        "import torch.nn as nn\n",
        "import torch.optim as optim\n",
        "from torchaudio import datasets, transforms\n",
        "from torch.utils.data import DataLoader\n",
        "import torch.nn.functional as F\n",
        "import matplotlib.pyplot as plt"
      ]
    },
    {
      "cell_type": "code",
      "execution_count": null,
      "metadata": {
        "colab": {
          "base_uri": "https://localhost:8080/"
        },
        "id": "Xoe0zJX59m7C",
        "outputId": "f27a67c1-b6d4-4d08-9854-7621f0db7a0b"
      },
      "outputs": [
        {
          "output_type": "stream",
          "name": "stderr",
          "text": [
            "100%|██████████| 2.26G/2.26G [00:17<00:00, 137MB/s]\n"
          ]
        }
      ],
      "source": [
        "train_data = datasets.SPEECHCOMMANDS(root='./data', download=True, subset='training')\n",
        "test_data = datasets.SPEECHCOMMANDS(root='./data', download=True, subset='testing')\n",
        "valid_data = datasets.SPEECHCOMMANDS(root='./data', download=True, subset='validation')"
      ]
    },
    {
      "cell_type": "code",
      "execution_count": null,
      "metadata": {
        "colab": {
          "base_uri": "https://localhost:8080/"
        },
        "id": "xQ8ERmVX9m-I",
        "outputId": "e611a576-aec6-49ac-8299-3b840629f1d6"
      },
      "outputs": [
        {
          "output_type": "stream",
          "name": "stderr",
          "text": [
            "/usr/local/lib/python3.12/dist-packages/torchaudio/_backend/utils.py:213: UserWarning: In 2.9, this function's implementation will be changed to use torchaudio.load_with_torchcodec` under the hood. Some parameters like ``normalize``, ``format``, ``buffer_size``, and ``backend`` will be ignored. We recommend that you port your code to rely directly on TorchCodec's decoder instead: https://docs.pytorch.org/torchcodec/stable/generated/torchcodec.decoders.AudioDecoder.html#torchcodec.decoders.AudioDecoder.\n",
            "  warnings.warn(\n",
            "/usr/local/lib/python3.12/dist-packages/torchaudio/_backend/ffmpeg.py:88: UserWarning: torio.io._streaming_media_decoder.StreamingMediaDecoder has been deprecated. This deprecation is part of a large refactoring effort to transition TorchAudio into a maintenance phase. The decoding and encoding capabilities of PyTorch for both audio and video are being consolidated into TorchCodec. Please see https://github.com/pytorch/audio/issues/3902 for more information. It will be removed from the 2.9 release. \n",
            "  s = torchaudio.io.StreamReader(src, format, None, buffer_size)\n"
          ]
        },
        {
          "output_type": "execute_result",
          "data": {
            "text/plain": [
              "['stop',\n",
              " 'bed',\n",
              " 'down',\n",
              " 'no',\n",
              " 'bird',\n",
              " 'one',\n",
              " 'dog',\n",
              " 'two',\n",
              " 'off',\n",
              " 'five',\n",
              " 'wow',\n",
              " 'yes',\n",
              " 'right',\n",
              " 'forward',\n",
              " 'zero',\n",
              " 'follow',\n",
              " 'on',\n",
              " 'visual',\n",
              " 'sheila',\n",
              " 'marvin',\n",
              " 'house',\n",
              " 'six',\n",
              " 'backward',\n",
              " 'seven',\n",
              " 'left',\n",
              " 'go',\n",
              " 'cat',\n",
              " 'tree',\n",
              " 'three',\n",
              " 'nine',\n",
              " 'happy',\n",
              " 'up',\n",
              " 'eight',\n",
              " 'four',\n",
              " 'learn']"
            ]
          },
          "metadata": {},
          "execution_count": 5
        }
      ],
      "source": [
        "label = list(set([i[2] for i in train_data]))\n",
        "label"
      ]
    },
    {
      "cell_type": "code",
      "execution_count": null,
      "metadata": {
        "colab": {
          "base_uri": "https://localhost:8080/"
        },
        "id": "CabpGjEcB-6s",
        "outputId": "6ffe8fc0-c2d7-478f-b0f9-c0599967a439"
      },
      "outputs": [
        {
          "output_type": "execute_result",
          "data": {
            "text/plain": [
              "35"
            ]
          },
          "metadata": {},
          "execution_count": 6
        }
      ],
      "source": [
        "len(label)"
      ]
    },
    {
      "cell_type": "code",
      "execution_count": null,
      "metadata": {
        "colab": {
          "base_uri": "https://localhost:8080/"
        },
        "id": "I9zfc025NiQ1",
        "outputId": "a129c290-c858-42bb-8920-fc809ab7da0f"
      },
      "outputs": [
        {
          "output_type": "execute_result",
          "data": {
            "text/plain": [
              "{'stop': 0,\n",
              " 'bed': 1,\n",
              " 'down': 2,\n",
              " 'no': 3,\n",
              " 'bird': 4,\n",
              " 'one': 5,\n",
              " 'dog': 6,\n",
              " 'two': 7,\n",
              " 'off': 8,\n",
              " 'five': 9,\n",
              " 'wow': 10,\n",
              " 'yes': 11,\n",
              " 'right': 12,\n",
              " 'forward': 13,\n",
              " 'zero': 14,\n",
              " 'follow': 15,\n",
              " 'on': 16,\n",
              " 'visual': 17,\n",
              " 'sheila': 18,\n",
              " 'marvin': 19,\n",
              " 'house': 20,\n",
              " 'six': 21,\n",
              " 'backward': 22,\n",
              " 'seven': 23,\n",
              " 'left': 24,\n",
              " 'go': 25,\n",
              " 'cat': 26,\n",
              " 'tree': 27,\n",
              " 'three': 28,\n",
              " 'nine': 29,\n",
              " 'happy': 30,\n",
              " 'up': 31,\n",
              " 'eight': 32,\n",
              " 'four': 33,\n",
              " 'learn': 34}"
            ]
          },
          "metadata": {},
          "execution_count": 7
        }
      ],
      "source": [
        "label_to_index = {\n",
        "    label:ind # create key:value\n",
        "    for ind, label in enumerate(label)\n",
        "    }\n",
        "label_to_index"
      ]
    },
    {
      "cell_type": "code",
      "execution_count": null,
      "metadata": {
        "id": "cnrpvntFIBYB"
      },
      "outputs": [],
      "source": [
        "transform = transforms.MelSpectrogram(\n",
        "    sample_rate=16000,\n",
        "    n_mels=64\n",
        ")"
      ]
    },
    {
      "cell_type": "code",
      "execution_count": null,
      "metadata": {
        "id": "XYzJ84hSIBTv"
      },
      "outputs": [],
      "source": [
        "max_len = 100\n",
        "def change_audio(audio):\n",
        "    spectrograms, classes = [], []\n",
        "    for waveform, sample_rate, label, *_ in audio:\n",
        "        spec_audio = transform(waveform).squeeze(0)\n",
        "        if spec_audio.shape[1] > max_len:\n",
        "            spec_audio = spec_audio[:, :max_len]\n",
        "        if spec_audio.shape[1] < max_len:\n",
        "            count_len = max_len - spec_audio.shape[1]\n",
        "            spec_audio = F.pad(spec_audio, (0, count_len))\n",
        "        spectrograms.append(spec_audio)\n",
        "        classes.append(label_to_index[label])\n",
        "    spectrograms = torch.stack(spectrograms)\n",
        "    targets = torch.tensor(classes)\n",
        "    return spectrograms, targets"
      ]
    },
    {
      "cell_type": "code",
      "execution_count": null,
      "metadata": {
        "id": "QwiBZiUCB-9q"
      },
      "outputs": [],
      "source": [
        "train = DataLoader(train_data, batch_size=64, shuffle=True, collate_fn=change_audio)\n",
        "test = DataLoader(test_data, batch_size=64, collate_fn=change_audio)"
      ]
    },
    {
      "cell_type": "code",
      "execution_count": null,
      "metadata": {
        "colab": {
          "base_uri": "https://localhost:8080/",
          "height": 406
        },
        "id": "MkoeR2GfGfLF",
        "outputId": "124ae3e3-6091-45f0-8b4d-d3633816f1ca"
      },
      "outputs": [
        {
          "output_type": "display_data",
          "data": {
            "text/plain": [
              "<Figure size 640x480 with 2 Axes>"
            ],
            "image/png": "[encoded data removed]"
          },
          "metadata": {}
        }
      ],
      "source": [
        "waveform, sample_rate, label, *_ = train_data[0]\n",
        "spec = transform(waveform).squeeze(0).float()\n",
        "plt.imshow(spec.log2().numpy(), cmap='magma', origin='lower')\n",
        "plt.title(f'Класс: {label}')\n",
        "plt.colorbar()\n",
        "plt.show()"
      ]
    },
    {
      "cell_type": "code",
      "execution_count": null,
      "metadata": {
        "id": "HhEuzNRX9nA6"
      },
      "outputs": [],
      "source": [
        "class CheckAudio(nn.Module):\n",
        "    def __init__(self,):\n",
        "        super().__init__()\n",
        "        self.first = nn.Sequential(\n",
        "            nn.Conv2d(1, 16, kernel_size=3, padding=1),\n",
        "            nn.ReLU(),\n",
        "            nn.MaxPool2d(2),\n",
        "\n",
        "            nn.Conv2d(16, 32, kernel_size=3, padding=1),\n",
        "            nn.ReLU(),\n",
        "            nn.MaxPool2d(2),\n",
        "            nn.AdaptiveAvgPool2d((8, 8))\n",
        "        )\n",
        "        self.second = nn.Sequential(\n",
        "            nn.Flatten(),\n",
        "            nn.Linear(32 * 8 * 8, 128),\n",
        "            nn.ReLU(),\n",
        "            nn.Linear(128, 35)\n",
        "        )\n",
        "    def forward(self, audio):\n",
        "        audio = audio.unsqueeze(1)\n",
        "        audio = self.first(audio)\n",
        "        audio = self.second(audio)\n",
        "        return audio"
      ]
    },
    {
      "cell_type": "code",
      "execution_count": null,
      "metadata": {
        "colab": {
          "base_uri": "https://localhost:8080/"
        },
        "id": "nwGi2yeYQfvE",
        "outputId": "0790656f-be8b-43b8-a2d2-6a1824c5a7d4"
      },
      "outputs": [
        {
          "output_type": "execute_result",
          "data": {
            "text/plain": [
              "device(type='cuda')"
            ]
          },
          "metadata": {},
          "execution_count": 13
        }
      ],
      "source": [
        "device = torch.device('cuda' if torch.cuda.is_available() else 'cpu')\n",
        "device"
      ]
    },
    {
      "cell_type": "code",
      "execution_count": null,
      "metadata": {
        "id": "mvLXX1dn9nDl"
      },
      "outputs": [],
      "source": [
        "model = CheckAudio().to(device)"
      ]
    },
    {
      "cell_type": "code",
      "execution_count": null,
      "metadata": {
        "id": "8n-HADZW9nG3"
      },
      "outputs": [],
      "source": [
        "loss_fn = nn.CrossEntropyLoss()\n",
        "optimizer = optim.Adam(model.parameters(), lr=0.001)"
      ]
    },
    {
      "cell_type": "code",
      "execution_count": null,
      "metadata": {
        "id": "ukt99DR-9nKB",
        "colab": {
          "base_uri": "https://localhost:8080/"
        },
        "outputId": "e061f1d5-1ddc-422f-bab5-a9b8cbd96d3d"
      },
      "outputs": [
        {
          "output_type": "stream",
          "name": "stderr",
          "text": [
            "/usr/local/lib/python3.12/dist-packages/torchaudio/_backend/utils.py:213: UserWarning: In 2.9, this function's implementation will be changed to use torchaudio.load_with_torchcodec` under the hood. Some parameters like ``normalize``, ``format``, ``buffer_size``, and ``backend`` will be ignored. We recommend that you port your code to rely directly on TorchCodec's decoder instead: https://docs.pytorch.org/torchcodec/stable/generated/torchcodec.decoders.AudioDecoder.html#torchcodec.decoders.AudioDecoder.\n",
            "  warnings.warn(\n",
            "/usr/local/lib/python3.12/dist-packages/torchaudio/_backend/ffmpeg.py:88: UserWarning: torio.io._streaming_media_decoder.StreamingMediaDecoder has been deprecated. This deprecation is part of a large refactoring effort to transition TorchAudio into a maintenance phase. The decoding and encoding capabilities of PyTorch for both audio and video are being consolidated into TorchCodec. Please see https://github.com/pytorch/audio/issues/3902 for more information. It will be removed from the 2.9 release. \n",
            "  s = torchaudio.io.StreamReader(src, format, None, buffer_size)\n"
          ]
        },
        {
          "output_type": "stream",
          "name": "stdout",
          "text": [
            "Эпоха: 1, Потери: 2861.34%\n",
            "Эпоха: 2, Потери: 1528.2%\n",
            "Эпоха: 3, Потери: 1147.58%\n",
            "Эпоха: 4, Потери: 960.97%\n",
            "Эпоха: 5, Потери: 836.54%\n",
            "Эпоха: 6, Потери: 753.14%\n",
            "Эпоха: 7, Потери: 683.56%\n",
            "Эпоха: 8, Потери: 620.12%\n",
            "Эпоха: 9, Потери: 581.26%\n",
            "Эпоха: 10, Потери: 538.84%\n",
            "Эпоха: 11, Потери: 504.55%\n",
            "Эпоха: 12, Потери: 468.35%\n",
            "Эпоха: 13, Потери: 449.41%\n",
            "Эпоха: 14, Потери: 418.44%\n",
            "Эпоха: 15, Потери: 404.8%\n",
            "Эпоха: 16, Потери: 394.88%\n",
            "Эпоха: 17, Потери: 349.36%\n",
            "Эпоха: 18, Потери: 364.84%\n",
            "Эпоха: 19, Потери: 332.25%\n",
            "Эпоха: 20, Потери: 314.85%\n",
            "Эпоха: 21, Потери: 306.36%\n",
            "Эпоха: 22, Потери: 293.16%\n",
            "Эпоха: 23, Потери: 265.49%\n"
          ]
        }
      ],
      "source": [
        "for epoch in range(23):\n",
        "    model.train()\n",
        "    total_loss = 0\n",
        "    for x_batch, y_batch in train:\n",
        "        x_batch, y_batch = x_batch.to(device), y_batch.to(device)\n",
        "        y_pred = model(x_batch)\n",
        "        loss = loss_fn(y_pred, y_batch)\n",
        "\n",
        "        optimizer.zero_grad()\n",
        "        loss.backward()\n",
        "        optimizer.step()\n",
        "\n",
        "        total_loss += loss.item()\n",
        "    print(f'Эпоха: {epoch + 1}, Потери: {round(total_loss, 2)}%')"
      ]
    },
    {
      "cell_type": "code",
      "execution_count": null,
      "metadata": {
        "id": "zY3-_PAxWHqW",
        "colab": {
          "base_uri": "https://localhost:8080/"
        },
        "outputId": "1f6d64c8-60bd-4107-c9f1-6d02f3f1b86c"
      },
      "outputs": [
        {
          "output_type": "stream",
          "name": "stderr",
          "text": [
            "/usr/local/lib/python3.12/dist-packages/torchaudio/_backend/utils.py:213: UserWarning: In 2.9, this function's implementation will be changed to use torchaudio.load_with_torchcodec` under the hood. Some parameters like ``normalize``, ``format``, ``buffer_size``, and ``backend`` will be ignored. We recommend that you port your code to rely directly on TorchCodec's decoder instead: https://docs.pytorch.org/torchcodec/stable/generated/torchcodec.decoders.AudioDecoder.html#torchcodec.decoders.AudioDecoder.\n",
            "  warnings.warn(\n",
            "/usr/local/lib/python3.12/dist-packages/torchaudio/_backend/ffmpeg.py:88: UserWarning: torio.io._streaming_media_decoder.StreamingMediaDecoder has been deprecated. This deprecation is part of a large refactoring effort to transition TorchAudio into a maintenance phase. The decoding and encoding capabilities of PyTorch for both audio and video are being consolidated into TorchCodec. Please see https://github.com/pytorch/audio/issues/3902 for more information. It will be removed from the 2.9 release. \n",
            "  s = torchaudio.io.StreamReader(src, format, None, buffer_size)\n"
          ]
        },
        {
          "output_type": "stream",
          "name": "stdout",
          "text": [
            "Тотал модели на тестовых данных: 81.68%\n"
          ]
        }
      ],
      "source": [
        "from sklearn.metrics import accuracy_score\n",
        "\n",
        "model.eval()\n",
        "correct, total = 0, 0\n",
        "\n",
        "with torch.no_grad():\n",
        "    for x_batch, y_batch in test:\n",
        "        x_batch, y_batch = x_batch.to(device), y_batch.to(device)\n",
        "        y_pred = model(x_batch)\n",
        "        pred = torch.argmax(y_pred, dim=1)\n",
        "\n",
        "        total += y_batch.size(0)\n",
        "        correct += (pred == y_batch).sum().item()\n",
        "\n",
        "accuracy = correct * 100 / total\n",
        "print(f'Тотал модели на тестовых данных: {round(accuracy, 2)}%')"
      ]
    },
    {
      "cell_type": "code",
      "execution_count": null,
      "metadata": {
        "id": "j3amvG9D9nQz"
      },
      "outputs": [],
      "source": [
        "torch.save(model.state_dict(), 'audio_model.pth')\n",
        "torch.save(label, 'label.pth')"
      ]
    },
    {
      "cell_type": "code",
      "execution_count": null,
      "metadata": {
        "id": "dGcJZhxKMrJa",
        "colab": {
          "base_uri": "https://localhost:8080/",
          "height": 17
        },
        "outputId": "84c158ee-bd03-4ddc-c904-26476a557b3b"
      },
      "outputs": [
        {
          "output_type": "display_data",
          "data": {
            "text/plain": [
              "<IPython.core.display.Javascript object>"
            ],
            "application/javascript": [
              "\n",
              "    async function download(id, filename, size) {\n",
              "      if (!google.colab.kernel.accessAllowed) {\n",
              "        return;\n",
              "      }\n",
              "      const div = document.createElement('div');\n",
              "      const label = document.createElement('label');\n",
              "      label.textContent = `Downloading \"${filename}\": `;\n",
              "      div.appendChild(label);\n",
              "      const progress = document.createElement('progress');\n",
              "      progress.max = size;\n",
              "      div.appendChild(progress);\n",
              "      document.body.appendChild(div);\n",
              "\n",
              "      const buffers = [];\n",
              "      let downloaded = 0;\n",
              "\n",
              "      const channel = await google.colab.kernel.comms.open(id);\n",
              "      // Send a message to notify the kernel that we're ready.\n",
              "      channel.send({})\n",
              "\n",
              "      for await (const message of channel.messages) {\n",
              "        // Send a message to notify the kernel that we're ready.\n",
              "        channel.send({})\n",
              "        if (message.buffers) {\n",
              "          for (const buffer of message.buffers) {\n",
              "            buffers.push(buffer);\n",
              "            downloaded += buffer.byteLength;\n",
              "            progress.value = downloaded;\n",
              "          }\n",
              "        }\n",
              "      }\n",
              "      const blob = new Blob(buffers, {type: 'application/binary'});\n",
              "      const a = document.createElement('a');\n",
              "      a.href = window.URL.createObjectURL(blob);\n",
              "      a.download = filename;\n",
              "      div.appendChild(a);\n",
              "      a.click();\n",
              "      div.remove();\n",
              "    }\n",
              "  "
            ]
          },
          "metadata": {}
        },
        {
          "output_type": "display_data",
          "data": {
            "text/plain": [
              "<IPython.core.display.Javascript object>"
            ],
            "application/javascript": [
              "download(\"download_fce6387c-116e-422f-8a3a-091e6813e9cf\", \"audio_model.pth\", 1090245)"
            ]
          },
          "metadata": {}
        },
        {
          "output_type": "display_data",
          "data": {
            "text/plain": [
              "<IPython.core.display.Javascript object>"
            ],
            "application/javascript": [
              "\n",
              "    async function download(id, filename, size) {\n",
              "      if (!google.colab.kernel.accessAllowed) {\n",
              "        return;\n",
              "      }\n",
              "      const div = document.createElement('div');\n",
              "      const label = document.createElement('label');\n",
              "      label.textContent = `Downloading \"${filename}\": `;\n",
              "      div.appendChild(label);\n",
              "      const progress = document.createElement('progress');\n",
              "      progress.max = size;\n",
              "      div.appendChild(progress);\n",
              "      document.body.appendChild(div);\n",
              "\n",
              "      const buffers = [];\n",
              "      let downloaded = 0;\n",
              "\n",
              "      const channel = await google.colab.kernel.comms.open(id);\n",
              "      // Send a message to notify the kernel that we're ready.\n",
              "      channel.send({})\n",
              "\n",
              "      for await (const message of channel.messages) {\n",
              "        // Send a message to notify the kernel that we're ready.\n",
              "        channel.send({})\n",
              "        if (message.buffers) {\n",
              "          for (const buffer of message.buffers) {\n",
              "            buffers.push(buffer);\n",
              "            downloaded += buffer.byteLength;\n",
              "            progress.value = downloaded;\n",
              "          }\n",
              "        }\n",
              "      }\n",
              "      const blob = new Blob(buffers, {type: 'application/binary'});\n",
              "      const a = document.createElement('a');\n",
              "      a.href = window.URL.createObjectURL(blob);\n",
              "      a.download = filename;\n",
              "      div.appendChild(a);\n",
              "      a.click();\n",
              "      div.remove();\n",
              "    }\n",
              "  "
            ]
          },
          "metadata": {}
        },
        {
          "output_type": "display_data",
          "data": {
            "text/plain": [
              "<IPython.core.display.Javascript object>"
            ],
            "application/javascript": [
              "download(\"download_668e9d9b-b736-42a9-85c8-3a0868284195\", \"label.pth\", 1249)"
            ]
          },
          "metadata": {}
        }
      ],
      "source": [
        "from google.colab import files\n",
        "files.download('audio_model.pth')\n",
        "files.download('label.pth')"
      ]
    }
  ],
  "metadata": {
    "accelerator": "GPU",
    "colab": {
      "gpuType": "T4",
      "provenance": []
    },
    "kernelspec": {
      "display_name": "Python 3",
      "name": "python3"
    },
    "language_info": {
      "name": "python"
    }
  },
  "nbformat": 4,
  "nbformat_minor": 0
}